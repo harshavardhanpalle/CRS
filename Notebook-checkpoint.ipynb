{
 "cells": [
  {
   "cell_type": "code",
   "execution_count": 1,
   "metadata": {},
   "outputs": [],
   "source": [
    "import warnings\n",
    "warnings.filterwarnings('ignore')"
   ]
  },
  {
   "cell_type": "code",
   "execution_count": 2,
   "metadata": {},
   "outputs": [],
   "source": [
    "import numpy as np\n",
    "import pandas as pd\n",
    "import seaborn as sns\n",
    "from sklearn.preprocessing import LabelEncoder\n",
    "import random\n",
    "import matplotlib.pyplot as plt"
   ]
  },
  {
   "cell_type": "code",
   "execution_count": 3,
   "metadata": {},
   "outputs": [
    {
     "data": {
      "text/html": [
       "<div>\n",
       "<style scoped>\n",
       "    .dataframe tbody tr th:only-of-type {\n",
       "        vertical-align: middle;\n",
       "    }\n",
       "\n",
       "    .dataframe tbody tr th {\n",
       "        vertical-align: top;\n",
       "    }\n",
       "\n",
       "    .dataframe thead th {\n",
       "        text-align: right;\n",
       "    }\n",
       "</style>\n",
       "<table border=\"1\" class=\"dataframe\">\n",
       "  <thead>\n",
       "    <tr style=\"text-align: right;\">\n",
       "      <th></th>\n",
       "      <th>N</th>\n",
       "      <th>P</th>\n",
       "      <th>K</th>\n",
       "      <th>pH</th>\n",
       "      <th>EC</th>\n",
       "      <th>OC</th>\n",
       "      <th>S</th>\n",
       "      <th>Zn</th>\n",
       "      <th>Fe</th>\n",
       "      <th>Cu</th>\n",
       "      <th>Mn</th>\n",
       "      <th>B</th>\n",
       "      <th>Texture</th>\n",
       "      <th>Season</th>\n",
       "      <th>Rainfall</th>\n",
       "      <th>Avg.Temp</th>\n",
       "      <th>Crop</th>\n",
       "    </tr>\n",
       "  </thead>\n",
       "  <tbody>\n",
       "    <tr>\n",
       "      <th>0</th>\n",
       "      <td>138</td>\n",
       "      <td>8.6</td>\n",
       "      <td>560</td>\n",
       "      <td>7.46</td>\n",
       "      <td>0.62</td>\n",
       "      <td>0.70</td>\n",
       "      <td>5.9</td>\n",
       "      <td>0.24</td>\n",
       "      <td>0.31</td>\n",
       "      <td>0.77</td>\n",
       "      <td>8.71</td>\n",
       "      <td>0.11</td>\n",
       "      <td>Sandy soil</td>\n",
       "      <td>Autumn</td>\n",
       "      <td>202.935536</td>\n",
       "      <td>20.879744</td>\n",
       "      <td>rice</td>\n",
       "    </tr>\n",
       "    <tr>\n",
       "      <th>1</th>\n",
       "      <td>213</td>\n",
       "      <td>7.5</td>\n",
       "      <td>338</td>\n",
       "      <td>7.62</td>\n",
       "      <td>0.75</td>\n",
       "      <td>1.06</td>\n",
       "      <td>25.4</td>\n",
       "      <td>0.30</td>\n",
       "      <td>0.86</td>\n",
       "      <td>1.54</td>\n",
       "      <td>2.89</td>\n",
       "      <td>2.29</td>\n",
       "      <td>Sandy soil</td>\n",
       "      <td>Summer</td>\n",
       "      <td>226.655537</td>\n",
       "      <td>21.770462</td>\n",
       "      <td>rice</td>\n",
       "    </tr>\n",
       "    <tr>\n",
       "      <th>2</th>\n",
       "      <td>163</td>\n",
       "      <td>9.6</td>\n",
       "      <td>718</td>\n",
       "      <td>7.59</td>\n",
       "      <td>0.51</td>\n",
       "      <td>1.11</td>\n",
       "      <td>14.3</td>\n",
       "      <td>0.30</td>\n",
       "      <td>0.86</td>\n",
       "      <td>1.57</td>\n",
       "      <td>2.70</td>\n",
       "      <td>2.03</td>\n",
       "      <td>Sandy soil</td>\n",
       "      <td>Summer</td>\n",
       "      <td>263.964248</td>\n",
       "      <td>23.004459</td>\n",
       "      <td>rice</td>\n",
       "    </tr>\n",
       "    <tr>\n",
       "      <th>3</th>\n",
       "      <td>157</td>\n",
       "      <td>6.8</td>\n",
       "      <td>475</td>\n",
       "      <td>7.64</td>\n",
       "      <td>0.58</td>\n",
       "      <td>0.94</td>\n",
       "      <td>26.0</td>\n",
       "      <td>0.34</td>\n",
       "      <td>0.54</td>\n",
       "      <td>1.53</td>\n",
       "      <td>2.65</td>\n",
       "      <td>1.82</td>\n",
       "      <td>Sandy soil</td>\n",
       "      <td>Autumn</td>\n",
       "      <td>242.864034</td>\n",
       "      <td>26.491096</td>\n",
       "      <td>rice</td>\n",
       "    </tr>\n",
       "    <tr>\n",
       "      <th>4</th>\n",
       "      <td>270</td>\n",
       "      <td>9.9</td>\n",
       "      <td>444</td>\n",
       "      <td>7.63</td>\n",
       "      <td>0.40</td>\n",
       "      <td>0.86</td>\n",
       "      <td>11.8</td>\n",
       "      <td>0.25</td>\n",
       "      <td>0.76</td>\n",
       "      <td>1.69</td>\n",
       "      <td>2.43</td>\n",
       "      <td>2.26</td>\n",
       "      <td>Sandy soil</td>\n",
       "      <td>Summer</td>\n",
       "      <td>262.717340</td>\n",
       "      <td>20.130175</td>\n",
       "      <td>rice</td>\n",
       "    </tr>\n",
       "  </tbody>\n",
       "</table>\n",
       "</div>"
      ],
      "text/plain": [
       "     N    P    K    pH    EC    OC     S    Zn    Fe    Cu    Mn     B  \\\n",
       "0  138  8.6  560  7.46  0.62  0.70   5.9  0.24  0.31  0.77  8.71  0.11   \n",
       "1  213  7.5  338  7.62  0.75  1.06  25.4  0.30  0.86  1.54  2.89  2.29   \n",
       "2  163  9.6  718  7.59  0.51  1.11  14.3  0.30  0.86  1.57  2.70  2.03   \n",
       "3  157  6.8  475  7.64  0.58  0.94  26.0  0.34  0.54  1.53  2.65  1.82   \n",
       "4  270  9.9  444  7.63  0.40  0.86  11.8  0.25  0.76  1.69  2.43  2.26   \n",
       "\n",
       "      Texture  Season    Rainfall   Avg.Temp  Crop  \n",
       "0  Sandy soil  Autumn  202.935536  20.879744  rice  \n",
       "1  Sandy soil  Summer  226.655537  21.770462  rice  \n",
       "2  Sandy soil  Summer  263.964248  23.004459  rice  \n",
       "3  Sandy soil  Autumn  242.864034  26.491096  rice  \n",
       "4  Sandy soil  Summer  262.717340  20.130175  rice  "
      ]
     },
     "execution_count": 3,
     "metadata": {},
     "output_type": "execute_result"
    }
   ],
   "source": [
    "df = pd.read_csv('dataset.csv')\n",
    "df.head()"
   ]
  },
  {
   "cell_type": "code",
   "execution_count": 4,
   "metadata": {},
   "outputs": [
    {
     "name": "stdout",
     "output_type": "stream",
     "text": [
      "<class 'pandas.core.frame.DataFrame'>\n",
      "RangeIndex: 880 entries, 0 to 879\n",
      "Data columns (total 17 columns):\n",
      "N           880 non-null int64\n",
      "P           880 non-null float64\n",
      "K           880 non-null int64\n",
      "pH          880 non-null float64\n",
      "EC          880 non-null float64\n",
      "OC          880 non-null float64\n",
      "S           880 non-null float64\n",
      "Zn          880 non-null float64\n",
      "Fe          880 non-null float64\n",
      "Cu          880 non-null float64\n",
      "Mn          880 non-null float64\n",
      "B           880 non-null float64\n",
      "Texture     880 non-null object\n",
      "Season      880 non-null object\n",
      "Rainfall    880 non-null float64\n",
      "Avg.Temp    880 non-null float64\n",
      "Crop        880 non-null object\n",
      "dtypes: float64(12), int64(2), object(3)\n",
      "memory usage: 117.0+ KB\n"
     ]
    }
   ],
   "source": [
    "df.info()"
   ]
  },
  {
   "cell_type": "code",
   "execution_count": 5,
   "metadata": {},
   "outputs": [],
   "source": [
    "df = df.dropna()"
   ]
  },
  {
   "cell_type": "code",
   "execution_count": 6,
   "metadata": {},
   "outputs": [
    {
     "data": {
      "text/plain": [
       "Sandy Clay loam    274\n",
       "Regur soil         155\n",
       "Desert soils       113\n",
       "Sandy loam         102\n",
       "Desert soil         65\n",
       "Laterite soil       61\n",
       "Black soil          44\n",
       "Red soil            43\n",
       "Sandy soil          15\n",
       "Clayey soils         5\n",
       "Alluvial soil        3\n",
       "Name: Texture, dtype: int64"
      ]
     },
     "execution_count": 6,
     "metadata": {},
     "output_type": "execute_result"
    }
   ],
   "source": [
    "df['Texture'].value_counts()"
   ]
  },
  {
   "cell_type": "code",
   "execution_count": 7,
   "metadata": {},
   "outputs": [
    {
     "data": {
      "text/plain": [
       "Autumn    587\n",
       "Summer    293\n",
       "Name: Season, dtype: int64"
      ]
     },
     "execution_count": 7,
     "metadata": {},
     "output_type": "execute_result"
    }
   ],
   "source": [
    "df['Season'].value_counts()"
   ]
  },
  {
   "cell_type": "code",
   "execution_count": 8,
   "metadata": {},
   "outputs": [
    {
     "data": {
      "text/plain": [
       "rice           100\n",
       "kidneybeans    100\n",
       "mungbean       100\n",
       "blackgram      100\n",
       "mothbeans      100\n",
       "pigeonpeas     100\n",
       "maize          100\n",
       "chickpea       100\n",
       "lentil          80\n",
       "Name: Crop, dtype: int64"
      ]
     },
     "execution_count": 8,
     "metadata": {},
     "output_type": "execute_result"
    }
   ],
   "source": [
    "df['Crop'].value_counts()"
   ]
  },
  {
   "cell_type": "code",
   "execution_count": 9,
   "metadata": {},
   "outputs": [
    {
     "data": {
      "image/png": "[encoded data removed]",
      "text/plain": [
       "<Figure size 288x288 with 1 Axes>"
      ]
     },
     "metadata": {
      "needs_background": "light"
     },
     "output_type": "display_data"
    }
   ],
   "source": [
    "import matplotlib.pyplot as plt\n",
    "\n",
    "plt.matshow(df.corr())\n",
    "plt.show()"
   ]
  },
  {
   "cell_type": "code",
   "execution_count": 10,
   "metadata": {},
   "outputs": [
    {
     "data": {
      "image/png": "[encoded data removed]",
      "text/plain": [
       "<Figure size 432x288 with 1 Axes>"
      ]
     },
     "metadata": {
      "needs_background": "light"
     },
     "output_type": "display_data"
    }
   ],
   "source": [
    "df.Crop.value_counts().plot(kind='bar');"
   ]
  },
  {
   "cell_type": "code",
   "execution_count": 11,
   "metadata": {},
   "outputs": [],
   "source": [
    "# Data preprocessing\n",
    "# Import label encoder \n",
    "from sklearn import preprocessing \n",
    "\n",
    "# label_encoder object knows \n",
    "# how to understand word labels. \n",
    "label_encoder = preprocessing.LabelEncoder() \n",
    "\n",
    "# Encode labels in column 'species'. \n",
    "df['Texture']= label_encoder.fit_transform(df['Texture'])\n",
    "df['Season']= label_encoder.fit_transform(df['Season'])\n",
    "df['Crop']= label_encoder.fit_transform(df['Crop'])"
   ]
  },
  {
   "cell_type": "code",
   "execution_count": 12,
   "metadata": {},
   "outputs": [
    {
     "name": "stdout",
     "output_type": "stream",
     "text": [
      "<class 'pandas.core.frame.DataFrame'>\n",
      "Int64Index: 880 entries, 0 to 879\n",
      "Data columns (total 17 columns):\n",
      "N           880 non-null int64\n",
      "P           880 non-null float64\n",
      "K           880 non-null int64\n",
      "pH          880 non-null float64\n",
      "EC          880 non-null float64\n",
      "OC          880 non-null float64\n",
      "S           880 non-null float64\n",
      "Zn          880 non-null float64\n",
      "Fe          880 non-null float64\n",
      "Cu          880 non-null float64\n",
      "Mn          880 non-null float64\n",
      "B           880 non-null float64\n",
      "Texture     880 non-null int32\n",
      "Season      880 non-null int32\n",
      "Rainfall    880 non-null float64\n",
      "Avg.Temp    880 non-null float64\n",
      "Crop        880 non-null int32\n",
      "dtypes: float64(12), int32(3), int64(2)\n",
      "memory usage: 113.4 KB\n"
     ]
    }
   ],
   "source": [
    "df.info()"
   ]
  },
  {
   "cell_type": "code",
   "execution_count": 13,
   "metadata": {},
   "outputs": [
    {
     "data": {
      "text/plain": [
       "Index(['N', 'P', 'K', 'pH', 'EC', 'OC', 'S', 'Zn', 'Fe', 'Cu', 'Mn', 'B',\n",
       "       'Texture', 'Season', 'Rainfall', 'Avg.Temp', 'Crop'],\n",
       "      dtype='object')"
      ]
     },
     "execution_count": 13,
     "metadata": {},
     "output_type": "execute_result"
    }
   ],
   "source": [
    "df.columns"
   ]
  },
  {
   "cell_type": "code",
   "execution_count": 14,
   "metadata": {},
   "outputs": [],
   "source": [
    "X = df[['N', 'P', 'K', 'pH', 'EC', 'OC', 'S', 'Zn', 'Fe', 'Cu', 'Mn', 'B',\n",
    "       'Texture', 'Season', 'Rainfall', 'Avg.Temp',]]\n",
    "y = df['Crop']"
   ]
  },
  {
   "cell_type": "markdown",
   "metadata": {},
   "source": [
    "# MRFE"
   ]
  },
  {
   "cell_type": "code",
   "execution_count": 15,
   "metadata": {},
   "outputs": [],
   "source": [
    "from sklearn.model_selection import StratifiedKFold, train_test_split, cross_validate\n",
    "from sklearn.feature_selection import RFECV\n",
    "from sklearn.ensemble import RandomForestClassifier"
   ]
  },
  {
   "cell_type": "code",
   "execution_count": 16,
   "metadata": {},
   "outputs": [
    {
     "data": {
      "text/plain": [
       "RFECV(cv=StratifiedKFold(n_splits=3, random_state=0, shuffle=True),\n",
       "      estimator=RandomForestClassifier(), scoring='accuracy')"
      ]
     },
     "execution_count": 16,
     "metadata": {},
     "output_type": "execute_result"
    }
   ],
   "source": [
    "estimator = RandomForestClassifier()\n",
    "rfecv = RFECV(estimator=estimator, cv=StratifiedKFold(3, random_state=0, shuffle=True), scoring=\"accuracy\")\n",
    "rfecv.fit(X, y)"
   ]
  },
  {
   "cell_type": "code",
   "execution_count": 17,
   "metadata": {},
   "outputs": [
    {
     "data": {
      "text/plain": [
       "'Number of features:'"
      ]
     },
     "metadata": {},
     "output_type": "display_data"
    },
    {
     "data": {
      "text/plain": [
       "13"
      ]
     },
     "metadata": {},
     "output_type": "display_data"
    },
    {
     "data": {
      "text/plain": [
       "['N',\n",
       " 'P',\n",
       " 'K',\n",
       " 'pH',\n",
       " 'S',\n",
       " 'Fe',\n",
       " 'Cu',\n",
       " 'Mn',\n",
       " 'B',\n",
       " 'Texture',\n",
       " 'Season',\n",
       " 'Rainfall',\n",
       " 'Avg.Temp']"
      ]
     },
     "execution_count": 17,
     "metadata": {},
     "output_type": "execute_result"
    }
   ],
   "source": [
    "#to get number of the features\n",
    "display('Number of features:', rfecv.n_features_)\n",
    "\n",
    "#to get feature names\n",
    "list(X.columns[rfecv.support_]) "
   ]
  },
  {
   "cell_type": "code",
   "execution_count": 15,
   "metadata": {},
   "outputs": [],
   "source": [
    "X_2 = df[['N',\n",
    "             'P',\n",
    "             'K',\n",
    "             'pH',\n",
    "             'S',\n",
    "             'Fe',\n",
    "             'Cu',\n",
    "             'Mn',\n",
    "             'B',\n",
    "             'Texture',\n",
    "             'Season',\n",
    "             'Rainfall',\n",
    "             'Avg.Temp']]"
   ]
  },
  {
   "cell_type": "code",
   "execution_count": 16,
   "metadata": {},
   "outputs": [
    {
     "data": {
      "text/plain": [
       "((704, 13), (704,), (176, 13), (176,))"
      ]
     },
     "execution_count": 16,
     "metadata": {},
     "output_type": "execute_result"
    }
   ],
   "source": [
    "from sklearn.model_selection import train_test_split\n",
    "\n",
    "X_train, X_test, y_train, y_test = train_test_split(X_2, y, test_size = 0.20, random_state = 42)\n",
    "X_train.shape, y_train.shape, X_test.shape, y_test.shape"
   ]
  },
  {
   "cell_type": "code",
   "execution_count": 51,
   "metadata": {},
   "outputs": [],
   "source": [
    "ML_Model = []\n",
    "accuracy = []\n",
    "precision = []\n",
    "recall = []\n",
    "f1score = []\n",
    "auc = []\n",
    "mae = []\n",
    "\n",
    "#function to call for storing the results\n",
    "def storeResults(model, a,b,c,d,e,f):\n",
    "    ML_Model.append(model)\n",
    "    accuracy.append(round(a, 3))\n",
    "    precision.append(round(b, 3))\n",
    "    recall.append(round(c, 3))\n",
    "    f1score.append(round(d, 3))\n",
    "    auc.append(round(e,3))\n",
    "    mae.append(round(f,3))"
   ]
  },
  {
   "cell_type": "code",
   "execution_count": 25,
   "metadata": {},
   "outputs": [],
   "source": [
    "from sklearn.metrics import accuracy_score, precision_score, recall_score, f1_score, roc_auc_score, mean_absolute_error, log_loss"
   ]
  },
  {
   "cell_type": "markdown",
   "metadata": {},
   "source": [
    "# KNN"
   ]
  },
  {
   "cell_type": "code",
   "execution_count": 26,
   "metadata": {},
   "outputs": [],
   "source": [
    "from sklearn.neighbors import KNeighborsClassifier\n",
    "\n",
    "clf = KNeighborsClassifier(n_neighbors=3)\n",
    "# fit the model \n",
    "clf.fit(X_train, y_train)\n",
    "\n",
    "#predicting the target value from the model for the samples\n",
    "\n",
    "y_pred = clf.predict(X_test)\n",
    "\n",
    "knn_acc = accuracy_score(y_pred, y_test)\n",
    "knn_prec = precision_score(y_pred, y_test,average='weighted')\n",
    "knn_rec = recall_score(y_pred, y_test,average='weighted')\n",
    "knn_f1 = f1_score(y_pred, y_test,average='weighted')\n",
    "knn_auc = roc_auc_score(y_train, clf.predict_proba(X_train), multi_class='ovr')\n",
    "knn_mae = mean_absolute_error(y_pred, y_test, multioutput='raw_values')"
   ]
  },
  {
   "cell_type": "code",
   "execution_count": 52,
   "metadata": {},
   "outputs": [],
   "source": [
    "storeResults('KNN',knn_acc,knn_prec,knn_rec,knn_f1,knn_auc,knn_mae[0])"
   ]
  },
  {
   "cell_type": "markdown",
   "metadata": {},
   "source": [
    "# Naive Bayes"
   ]
  },
  {
   "cell_type": "code",
   "execution_count": 35,
   "metadata": {},
   "outputs": [],
   "source": [
    "from sklearn.model_selection import GridSearchCV\n",
    "from sklearn.naive_bayes import MultinomialNB\n",
    "\n",
    "alphas = [0.1, 0.2, 0.3, 0.4, 0.5, 0.6, 0.7, 0.8, 0.9, 1.0]\n",
    "p_grid_NB = {'alpha': alphas, 'fit_prior' : [True, False]}\n",
    "\n",
    "clf = MultinomialNB()\n",
    "\n",
    "grid = GridSearchCV(estimator =clf, param_grid = p_grid_NB, scoring = 'roc_auc', cv = 5)\n",
    "\n",
    "# fit the model \n",
    "grid.fit(X_train, y_train)\n",
    "\n",
    "y_pred = grid.predict(X_test)\n",
    "\n",
    "nb_acc = accuracy_score(y_pred, y_test)\n",
    "nb_prec = precision_score(y_pred, y_test,average='weighted')\n",
    "nb_rec = recall_score(y_pred, y_test,average='weighted')\n",
    "nb_f1 = f1_score(y_pred, y_test,average='weighted')\n",
    "nb_auc = roc_auc_score(y_train, grid.predict_proba(X_train), multi_class='ovr')\n",
    "nb_mae = mean_absolute_error(y_pred, y_test, multioutput='raw_values')"
   ]
  },
  {
   "cell_type": "code",
   "execution_count": 53,
   "metadata": {},
   "outputs": [],
   "source": [
    "storeResults('Naive Bayes',nb_acc,nb_prec,nb_rec,nb_f1,nb_auc,nb_mae[0])"
   ]
  },
  {
   "cell_type": "markdown",
   "metadata": {},
   "source": [
    "# Decision Tree"
   ]
  },
  {
   "cell_type": "code",
   "execution_count": 37,
   "metadata": {},
   "outputs": [],
   "source": [
    "from sklearn.tree import DecisionTreeClassifier\n",
    "\n",
    "clf = DecisionTreeClassifier(random_state=10)\n",
    "# fit the model \n",
    "clf.fit(X_train, y_train)\n",
    "\n",
    "y_pred = clf.predict(X_test)\n",
    "\n",
    "dt_acc = accuracy_score(y_pred, y_test)\n",
    "dt_prec = precision_score(y_pred, y_test,average='weighted')\n",
    "dt_rec = recall_score(y_pred, y_test,average='weighted')\n",
    "dt_f1 = f1_score(y_pred, y_test,average='weighted')\n",
    "dt_auc = roc_auc_score(y_train, clf.predict_proba(X_train), multi_class='ovr')\n",
    "dt_mae = mean_absolute_error(y_pred, y_test, multioutput='raw_values')"
   ]
  },
  {
   "cell_type": "code",
   "execution_count": 54,
   "metadata": {},
   "outputs": [],
   "source": [
    "storeResults('DecisionTree',dt_acc,dt_prec,dt_rec,dt_f1,dt_auc,dt_mae[0])"
   ]
  },
  {
   "cell_type": "markdown",
   "metadata": {},
   "source": [
    "# SVM"
   ]
  },
  {
   "cell_type": "code",
   "execution_count": 40,
   "metadata": {},
   "outputs": [],
   "source": []
  },
  {
   "cell_type": "code",
   "execution_count": 55,
   "metadata": {},
   "outputs": [],
   "source": []
  },
  {
   "cell_type": "markdown",
   "metadata": {},
   "source": [
    "# Random Forest"
   ]
  },
  {
   "cell_type": "code",
   "execution_count": 42,
   "metadata": {},
   "outputs": [],
   "source": []
  },
  {
   "cell_type": "code",
   "execution_count": 56,
   "metadata": {},
   "outputs": [],
   "source": []
  },
  {
   "cell_type": "markdown",
   "metadata": {},
   "source": [
    "# Bagging Classifier"
   ]
  },
  {
   "cell_type": "code",
   "execution_count": 44,
   "metadata": {},
   "outputs": [],
   "source": []
  },
  {
   "cell_type": "code",
   "execution_count": 57,
   "metadata": {},
   "outputs": [],
   "source": []
  },
  {
   "cell_type": "markdown",
   "metadata": {},
   "source": [
    "# Voting Classifier"
   ]
  },
  {
   "cell_type": "code",
   "execution_count": 46,
   "metadata": {},
   "outputs": [],
   "source": []
  },
  {
   "cell_type": "code",
   "execution_count": 58,
   "metadata": {},
   "outputs": [],
   "source": []
  },
  {
   "cell_type": "markdown",
   "metadata": {},
   "source": [
    "# Comparison"
   ]
  },
  {
   "cell_type": "code",
   "execution_count": 59,
   "metadata": {},
   "outputs": [],
   "source": [
    "#creating dataframe\n",
    "import pandas as pd\n",
    "import numpy as np\n",
    "result = pd.DataFrame({ 'ML Model' : ML_Model,\n",
    "                        'Accuracy' : accuracy,\n",
    "                        'f1_score' : f1score,\n",
    "                        'Recall'   : recall,\n",
    "                        'Precision': precision,\n",
    "                        'AUC' : auc,\n",
    "                        'MAE' : mae,\n",
    "                        \n",
    "                      })"
   ]
  },
  {
   "cell_type": "code",
   "execution_count": 60,
   "metadata": {},
   "outputs": [
    {
     "data": {
      "text/html": [
       "<div>\n",
       "<style scoped>\n",
       "    .dataframe tbody tr th:only-of-type {\n",
       "        vertical-align: middle;\n",
       "    }\n",
       "\n",
       "    .dataframe tbody tr th {\n",
       "        vertical-align: top;\n",
       "    }\n",
       "\n",
       "    .dataframe thead th {\n",
       "        text-align: right;\n",
       "    }\n",
       "</style>\n",
       "<table border=\"1\" class=\"dataframe\">\n",
       "  <thead>\n",
       "    <tr style=\"text-align: right;\">\n",
       "      <th></th>\n",
       "      <th>ML Model</th>\n",
       "      <th>Accuracy</th>\n",
       "      <th>f1_score</th>\n",
       "      <th>Recall</th>\n",
       "      <th>Precision</th>\n",
       "      <th>AUC</th>\n",
       "      <th>MAE</th>\n",
       "    </tr>\n",
       "  </thead>\n",
       "  <tbody>\n",
       "    <tr>\n",
       "      <th>0</th>\n",
       "      <td>KNN</td>\n",
       "      <td>0.483</td>\n",
       "      <td>0.476</td>\n",
       "      <td>0.483</td>\n",
       "      <td>0.538</td>\n",
       "      <td>0.969</td>\n",
       "      <td>1.483</td>\n",
       "    </tr>\n",
       "    <tr>\n",
       "      <th>1</th>\n",
       "      <td>Naive Bayes</td>\n",
       "      <td>0.534</td>\n",
       "      <td>0.537</td>\n",
       "      <td>0.534</td>\n",
       "      <td>0.591</td>\n",
       "      <td>0.892</td>\n",
       "      <td>1.278</td>\n",
       "    </tr>\n",
       "    <tr>\n",
       "      <th>2</th>\n",
       "      <td>DecisionTree</td>\n",
       "      <td>0.926</td>\n",
       "      <td>0.926</td>\n",
       "      <td>0.926</td>\n",
       "      <td>0.932</td>\n",
       "      <td>1.000</td>\n",
       "      <td>0.080</td>\n",
       "    </tr>\n",
       "    <tr>\n",
       "      <th>3</th>\n",
       "      <td>SVM</td>\n",
       "      <td>0.068</td>\n",
       "      <td>0.128</td>\n",
       "      <td>0.068</td>\n",
       "      <td>1.000</td>\n",
       "      <td>0.000</td>\n",
       "      <td>2.324</td>\n",
       "    </tr>\n",
       "    <tr>\n",
       "      <th>4</th>\n",
       "      <td>Random Forest</td>\n",
       "      <td>0.972</td>\n",
       "      <td>0.972</td>\n",
       "      <td>0.972</td>\n",
       "      <td>0.975</td>\n",
       "      <td>1.000</td>\n",
       "      <td>0.051</td>\n",
       "    </tr>\n",
       "    <tr>\n",
       "      <th>5</th>\n",
       "      <td>Bagging Classifier</td>\n",
       "      <td>0.977</td>\n",
       "      <td>0.977</td>\n",
       "      <td>0.977</td>\n",
       "      <td>0.979</td>\n",
       "      <td>1.000</td>\n",
       "      <td>0.045</td>\n",
       "    </tr>\n",
       "    <tr>\n",
       "      <th>6</th>\n",
       "      <td>Voting Classifier</td>\n",
       "      <td>1.000</td>\n",
       "      <td>1.000</td>\n",
       "      <td>1.000</td>\n",
       "      <td>1.000</td>\n",
       "      <td>1.000</td>\n",
       "      <td>0.000</td>\n",
       "    </tr>\n",
       "  </tbody>\n",
       "</table>\n",
       "</div>"
      ],
      "text/plain": [
       "             ML Model  Accuracy  f1_score  Recall  Precision    AUC    MAE\n",
       "0                 KNN     0.483     0.476   0.483      0.538  0.969  1.483\n",
       "1         Naive Bayes     0.534     0.537   0.534      0.591  0.892  1.278\n",
       "2        DecisionTree     0.926     0.926   0.926      0.932  1.000  0.080\n",
       "3                 SVM     0.068     0.128   0.068      1.000  0.000  2.324\n",
       "4       Random Forest     0.972     0.972   0.972      0.975  1.000  0.051\n",
       "5  Bagging Classifier     0.977     0.977   0.977      0.979  1.000  0.045\n",
       "6   Voting Classifier     1.000     1.000   1.000      1.000  1.000  0.000"
      ]
     },
     "execution_count": 60,
     "metadata": {},
     "output_type": "execute_result"
    }
   ],
   "source": [
    "result"
   ]
  },
  {
   "cell_type": "markdown",
   "metadata": {},
   "source": [
    "# Modelling"
   ]
  },
  {
   "cell_type": "code",
   "execution_count": 61,
   "metadata": {},
   "outputs": [
    {
     "data": {
      "text/plain": [
       "['model.sav']"
      ]
     },
     "execution_count": 61,
     "metadata": {},
     "output_type": "execute_result"
    }
   ],
   "source": [
    "import joblib\n",
    "filename = 'model.sav'\n",
    "joblib.dump(eclf1, filename)"
   ]
  },
  {
   "cell_type": "markdown",
   "metadata": {},
   "source": [
    "# Graph"
   ]
  },
  {
   "cell_type": "code",
   "execution_count": 64,
   "metadata": {},
   "outputs": [],
   "source": [
    "classifier = ML_Model\n",
    "y_pos = np.arange(len(classifier))"
   ]
  },
  {
   "cell_type": "markdown",
   "metadata": {},
   "source": [
    "# Accuracy"
   ]
  },
  {
   "cell_type": "code",
   "execution_count": 65,
   "metadata": {},
   "outputs": [
    {
     "data": {
      "image/png": "[encoded data removed]",
      "text/plain": [
       "<Figure size 432x288 with 1 Axes>"
      ]
     },
     "metadata": {
      "needs_background": "light"
     },
     "output_type": "display_data"
    }
   ],
   "source": [
    "import matplotlib.pyplot as plt2\n",
    "plt2.barh(y_pos, accuracy, align='center', alpha=0.5,color='blue')\n",
    "plt2.yticks(y_pos, classifier)\n",
    "plt2.xlabel('Accuracy Score')\n",
    "plt2.title('Classification Performance')\n",
    "plt2.show()"
   ]
  },
  {
   "cell_type": "markdown",
   "metadata": {},
   "source": [
    "# Precision"
   ]
  },
  {
   "cell_type": "code",
   "execution_count": 66,
   "metadata": {},
   "outputs": [
    {
     "data": {
      "image/png": "[encoded data removed]",
      "text/plain": [
       "<Figure size 432x288 with 1 Axes>"
      ]
     },
     "metadata": {
      "needs_background": "light"
     },
     "output_type": "display_data"
    }
   ],
   "source": [
    "plt2.barh(y_pos, precision, align='center', alpha=0.5,color='red')\n",
    "plt2.yticks(y_pos, classifier)\n",
    "plt2.xlabel('Precision Score')\n",
    "plt2.title('Classification Performance')\n",
    "plt2.show()"
   ]
  },
  {
   "cell_type": "markdown",
   "metadata": {},
   "source": [
    "# Recall"
   ]
  },
  {
   "cell_type": "code",
   "execution_count": 67,
   "metadata": {},
   "outputs": [
    {
     "data": {
      "image/png": "[encoded data removed]",
      "text/plain": [
       "<Figure size 432x288 with 1 Axes>"
      ]
     },
     "metadata": {
      "needs_background": "light"
     },
     "output_type": "display_data"
    }
   ],
   "source": [
    "plt2.barh(y_pos, recall, align='center', alpha=0.5,color='yellow')\n",
    "plt2.yticks(y_pos, classifier)\n",
    "plt2.xlabel('Recall Score')\n",
    "plt2.title('Classification Performance')\n",
    "plt2.show()"
   ]
  },
  {
   "cell_type": "markdown",
   "metadata": {},
   "source": [
    "# F1 Score"
   ]
  },
  {
   "cell_type": "code",
   "execution_count": 68,
   "metadata": {},
   "outputs": [
    {
     "data": {
      "image/png": "[encoded data removed]",
      "text/plain": [
       "<Figure size 432x288 with 1 Axes>"
      ]
     },
     "metadata": {
      "needs_background": "light"
     },
     "output_type": "display_data"
    }
   ],
   "source": [
    "plt2.barh(y_pos, f1score, align='center', alpha=0.5,color='navy')\n",
    "plt2.yticks(y_pos, classifier)\n",
    "plt2.xlabel('F1 Score')\n",
    "plt2.title('Classification Performance')\n",
    "plt2.show()"
   ]
  },
  {
   "cell_type": "markdown",
   "metadata": {},
   "source": [
    "# AUC"
   ]
  },
  {
   "cell_type": "code",
   "execution_count": 69,
   "metadata": {},
   "outputs": [
    {
     "data": {
      "image/png": "[encoded data removed]",
      "text/plain": [
       "<Figure size 432x288 with 1 Axes>"
      ]
     },
     "metadata": {
      "needs_background": "light"
     },
     "output_type": "display_data"
    }
   ],
   "source": [
    "plt2.barh(y_pos, auc, align='center', alpha=0.5,color='orange')\n",
    "plt2.yticks(y_pos, classifier)\n",
    "plt2.xlabel('AUC Score')\n",
    "plt2.title('Classification Performance')\n",
    "plt2.show()"
   ]
  },
  {
   "cell_type": "markdown",
   "metadata": {},
   "source": [
    "# MAE"
   ]
  },
  {
   "cell_type": "code",
   "execution_count": 70,
   "metadata": {},
   "outputs": [
    {
     "data": {
      "image/png": "[encoded data removed]",
      "text/plain": [
       "<Figure size 432x288 with 1 Axes>"
      ]
     },
     "metadata": {
      "needs_background": "light"
     },
     "output_type": "display_data"
    }
   ],
   "source": [
    "plt2.barh(y_pos, mae, align='center', alpha=0.5,color='green')\n",
    "plt2.yticks(y_pos, classifier)\n",
    "plt2.xlabel('MAE Score')\n",
    "plt2.title('Classification Performance')\n",
    "plt2.show()"
   ]
  },
  {
   "cell_type": "code",
   "execution_count": 17,
   "metadata": {},
   "outputs": [],
   "source": [
    "X_test.to_csv('x.csv')"
   ]
  },
  {
   "cell_type": "code",
   "execution_count": null,
   "metadata": {},
   "outputs": [],
   "source": []
  }
 ],
 "metadata": {
  "kernelspec": {
   "display_name": "Python 3",
   "language": "python",
   "name": "python3"
  },
  "language_info": {
   "codemirror_mode": {
    "name": "ipython",
    "version": 3
   },
   "file_extension": ".py",
   "mimetype": "text/x-python",
   "name": "python",
   "nbconvert_exporter": "python",
   "pygments_lexer": "ipython3",
   "version": "3.7.4"
  }
 },
 "nbformat": 4,
 "nbformat_minor": 2
}
